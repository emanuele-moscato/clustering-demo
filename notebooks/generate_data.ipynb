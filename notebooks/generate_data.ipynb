{
 "cells": [
  {
   "cell_type": "markdown",
   "metadata": {},
   "source": [
    "# Generate datapoints in 3 dimensions\n",
    "\n",
    "__Objective:__ create a dataset of points on which we can then perform dimensional reduction and clustering."
   ]
  },
  {
   "cell_type": "code",
   "execution_count": null,
   "metadata": {},
   "outputs": [],
   "source": [
    "import numpy as np\n",
    "import pandas as pd\n",
    "from plotly.offline import init_notebook_mode, iplot\n",
    "import plotly.graph_objs as go\n",
    "\n",
    "init_notebook_mode(connected=True)"
   ]
  },
  {
   "cell_type": "markdown",
   "metadata": {},
   "source": [
    "Generate points with two features, normally distributed in the two dimension according with different means and standard deviations to create clusters."
   ]
  },
  {
   "cell_type": "code",
   "execution_count": null,
   "metadata": {},
   "outputs": [],
   "source": [
    "v1 = np.array([\n",
    "    np.random.normal(loc=10.0,size=(10000)),\n",
    "    np.random.normal(size=(10000))\n",
    "]).T\n",
    "\n",
    "v2 = np.array([\n",
    "    np.random.normal(loc=7.0, scale=0.5,size=(10000)),\n",
    "    np.random.normal(loc=2.0, scale=0.3,size=(10000))\n",
    "]).T"
   ]
  },
  {
   "cell_type": "code",
   "execution_count": null,
   "metadata": {},
   "outputs": [],
   "source": [
    "v1.shape, v2.shape"
   ]
  },
  {
   "cell_type": "code",
   "execution_count": null,
   "metadata": {},
   "outputs": [],
   "source": [
    "trace1 = go.Scatter(\n",
    "    x = v1[:,0],\n",
    "    y = v1[:,1],\n",
    "    mode = 'markers'\n",
    ")\n",
    "\n",
    "trace2 = go.Scatter(\n",
    "    x = v2[:,0],\n",
    "    y = v2[:,1],\n",
    "    mode = 'markers'\n",
    ")\n",
    "\n",
    "data = [trace1, trace2]\n",
    "\n",
    "fig = go.Figure(data=data)\n",
    "\n",
    "iplot(fig)"
   ]
  },
  {
   "cell_type": "markdown",
   "metadata": {},
   "source": [
    "Add a third dimension to the feature vector, with value dependent on the other two features."
   ]
  },
  {
   "cell_type": "code",
   "execution_count": null,
   "metadata": {},
   "outputs": [],
   "source": [
    "z1 = np.random.normal(loc=v1[:,0]**4, scale=5000)\n",
    "z2 = np.random.normal(loc=v2[:,0]**4, scale=5000)"
   ]
  },
  {
   "cell_type": "code",
   "execution_count": null,
   "metadata": {},
   "outputs": [],
   "source": [
    "v1 = np.hstack([v1,z1.reshape((10000,1))])"
   ]
  },
  {
   "cell_type": "code",
   "execution_count": null,
   "metadata": {},
   "outputs": [],
   "source": [
    "v2 = np.hstack([v2,z2.reshape((10000,1))])"
   ]
  },
  {
   "cell_type": "code",
   "execution_count": null,
   "metadata": {},
   "outputs": [],
   "source": [
    "v2.shape"
   ]
  },
  {
   "cell_type": "code",
   "execution_count": null,
   "metadata": {},
   "outputs": [],
   "source": [
    "trace1 = go.Scatter3d(\n",
    "    x = v1[:,0],\n",
    "    y = v1[:,1],\n",
    "    z = v1[:,2],\n",
    "    mode = 'markers',\n",
    "    marker = dict(\n",
    "        size = 3.0\n",
    "    )\n",
    ")\n",
    "\n",
    "trace2 = go.Scatter3d(\n",
    "    x = v2[:,0],\n",
    "    y = v2[:,1],\n",
    "    z = v2[:,2],\n",
    "    mode='markers',\n",
    "    marker = dict(\n",
    "        size = 3.0\n",
    "    )\n",
    ")\n",
    "\n",
    "\n",
    "data = [trace1, trace2]\n",
    "\n",
    "fig = go.Figure(data=data)\n",
    "\n",
    "iplot(fig)"
   ]
  },
  {
   "cell_type": "markdown",
   "metadata": {},
   "source": [
    "Put all the datapoints in one single array, then put it into a pandas dataframe and export it to csv."
   ]
  },
  {
   "cell_type": "code",
   "execution_count": null,
   "metadata": {},
   "outputs": [],
   "source": [
    "X = np.concatenate((v1, v2), 0)"
   ]
  },
  {
   "cell_type": "code",
   "execution_count": null,
   "metadata": {},
   "outputs": [],
   "source": [
    "trace = go.Scatter3d(\n",
    "    x = X[:,0],\n",
    "    y = X[:,1],\n",
    "    z = X[:,2],\n",
    "    mode = 'markers',\n",
    "    marker = dict(\n",
    "        size = 3.0\n",
    "    )\n",
    ")\n",
    "\n",
    "\n",
    "data = [trace]\n",
    "\n",
    "fig = go.Figure(data=data)\n",
    "\n",
    "iplot(fig)"
   ]
  },
  {
   "cell_type": "code",
   "execution_count": null,
   "metadata": {},
   "outputs": [],
   "source": [
    "data = pd.DataFrame({'x': X[:,0], 'y': X[:,1], 'z': X[:,2]})\n",
    "\n",
    "data.shape"
   ]
  },
  {
   "cell_type": "code",
   "execution_count": null,
   "metadata": {},
   "outputs": [],
   "source": [
    "data.to_csv('../data/data.csv', index=None)"
   ]
  }
 ],
 "metadata": {
  "kernelspec": {
   "display_name": "Python [conda env:Python3]",
   "language": "python",
   "name": "conda-env-Python3-py"
  },
  "language_info": {
   "codemirror_mode": {
    "name": "ipython",
    "version": 3
   },
   "file_extension": ".py",
   "mimetype": "text/x-python",
   "name": "python",
   "nbconvert_exporter": "python",
   "pygments_lexer": "ipython3",
   "version": "3.6.4"
  }
 },
 "nbformat": 4,
 "nbformat_minor": 2
}
